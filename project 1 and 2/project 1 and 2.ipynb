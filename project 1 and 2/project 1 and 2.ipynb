{
 "cells": [
  {
   "cell_type": "code",
   "execution_count": 1,
   "id": "82d86b47",
   "metadata": {},
   "outputs": [
    {
     "name": "stdout",
     "output_type": "stream",
     "text": [
      "Name\t| Age\t| Height\t| Score\n",
      "Samantha\t| 17\t| 5.5\t\t| 80\n",
      "Jada\t| 16\t| 6.0\t\t| 85\n",
      "Jane\t| 17\t| 5.4\t\t| 70\n",
      "Claire\t| 18\t| 5.9\t\t| 60\n",
      "Elizabeth\t| 16\t| 5.6\t\t| 76\n",
      "Mary\t| 18\t| 5.5\t\t| 66\n",
      "Susan\t| 17\t| 6.1\t\t| 87\n",
      "Waje\t| 20\t| 6.0\t\t| 95\n",
      "Taibat\t| 19\t| 5.7\t\t| 50\n",
      "Lilian\t| 17\t| 5.5\t\t| 49\n",
      "Charles\t| 19\t| 5.7\t\t| 74\n",
      "Jude\t| 16\t| 5.9\t\t| 87\n",
      "James\t| 18\t| 5.8\t\t| 75\n",
      "Kelvin\t| 17\t| 6.1\t\t| 68\n",
      "Biodun\t| 20\t| 5.9\t\t| 66\n",
      "Wale\t| 19\t| 5.5\t\t| 78\n",
      "Kunle\t| 16\t| 6.1\t\t| 87\n",
      "Matthew\t| 18\t| 5.4\t\t| 98\n",
      "Tom\t| 17\t| 5.8\t\t| 54\n",
      "Kayode\t| 19\t| 5.7\t\t| 60\n"
     ]
    }
   ],
   "source": [
    "# Define the data for the girls\n",
    "girls_names = ['Samantha', 'Jada', 'Jane', 'Claire', 'Elizabeth', 'Mary', 'Susan', 'Waje', 'Taibat', 'Lilian']\n",
    "girls_age = [17, 16, 17, 18, 16, 18, 17, 20, 19, 17]\n",
    "girls_height = [5.5, 6.0, 5.4, 5.9, 5.6, 5.5, 6.1, 6.0, 5.7, 5.5]\n",
    "girls_scores = [80, 85, 70, 60, 76, 66, 87, 95, 50, 49]\n",
    "\n",
    "# Define the data for the boys\n",
    "boys_names = ['Charles', 'Jude', 'James', 'Kelvin', 'Biodun', 'Wale', 'Kunle', 'Matthew', 'Tom', 'Kayode']\n",
    "boys_age = [19, 16, 18, 17, 20, 19, 16, 18, 17, 19]\n",
    "boys_height = [5.7, 5.9, 5.8, 6.1, 5.9, 5.5, 6.1, 5.4, 5.8, 5.7]\n",
    "boys_scores = [74, 87, 75, 68, 66, 78, 87, 98, 54, 60]\n",
    "\n",
    "# Print the table header\n",
    "print(\"Name\\t| Age\\t| Height\\t| Score\")\n",
    "\n",
    "# Print the girls' data\n",
    "for i in range(len(girls_names)):\n",
    "    print(f\"{girls_names[i]}\\t| {girls_age[i]}\\t| {girls_height[i]}\\t\\t| {girls_scores[i]}\")\n",
    "\n",
    "# Print the boys' data\n",
    "for i in range(len(boys_names)):\n",
    "    print(f\"{boys_names[i]}\\t| {boys_age[i]}\\t| {boys_height[i]}\\t\\t| {boys_scores[i]}\")\n"
   ]
  },
  {
   "cell_type": "code",
   "execution_count": 2,
   "id": "c5ecede1",
   "metadata": {},
   "outputs": [
    {
     "name": "stdout",
     "output_type": "stream",
     "text": [
      "Enter years of experience: 20\n",
      "Enter age: 67\n",
      "The annual tax revenue is: N1500000\n"
     ]
    }
   ],
   "source": [
    "# Get input from user\n",
    "years_of_experience = int(input(\"Enter years of experience: \"))\n",
    "age = int(input(\"Enter age: \"))\n",
    "\n",
    "# Calculate annual tax revenue based on the conditions\n",
    "if years_of_experience > 25 and age >= 55:\n",
    "    atr = 5600000\n",
    "elif years_of_experience > 20 and age >= 45:\n",
    "    atr = 4480000\n",
    "elif years_of_experience > 10 and age >= 35:\n",
    "    atr = 1500000\n",
    "else:\n",
    "    atr = 550000\n",
    "\n",
    "# Print the annual tax revenue\n",
    "print(f\"The annual tax revenue is: N{atr}\")\n"
   ]
  },
  {
   "cell_type": "code",
   "execution_count": null,
   "id": "abd82d56",
   "metadata": {},
   "outputs": [],
   "source": []
  }
 ],
 "metadata": {
  "kernelspec": {
   "display_name": "Python 3 (ipykernel)",
   "language": "python",
   "name": "python3"
  },
  "language_info": {
   "codemirror_mode": {
    "name": "ipython",
    "version": 3
   },
   "file_extension": ".py",
   "mimetype": "text/x-python",
   "name": "python",
   "nbconvert_exporter": "python",
   "pygments_lexer": "ipython3",
   "version": "3.10.9"
  }
 },
 "nbformat": 4,
 "nbformat_minor": 5
}
