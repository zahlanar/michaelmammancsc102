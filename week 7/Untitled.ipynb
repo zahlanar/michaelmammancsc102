{
 "cells": [
  {
   "cell_type": "code",
   "execution_count": 17,
   "id": "0df6cb7e",
   "metadata": {},
   "outputs": [
    {
     "name": "stdout",
     "output_type": "stream",
     "text": [
      "Enter name: peter\n",
      "Enter Department: logistics\n",
      "Welcome, peter! You are an employee of JT Ventures.\n",
      "Company Profile: JT Ventures is a delivery business.\n"
     ]
    }
   ],
   "source": [
    "# importing pandas package\n",
    "import csv\n",
    "def verify_employee(name, department):\n",
    "    with open('jt-ventures.csv', 'r') as file:\n",
    "        reader = csv.reader(file)\n",
    "        next(reader)  # Skip header row\n",
    "        for row in reader:\n",
    "            if row[1].lower() == name.lower() and row[3].lower() == department.lower():\n",
    "                print(\"Welcome, {}! You are an employee of JT Ventures.\".format(name))\n",
    "                print(\"Company Profile: JT Ventures is a delivery business.\")\n",
    "                return\n",
    "        print(\"Sorry, employee does not exist.\")\n",
    "name = input(\"Enter name: \")\n",
    "department = input(\"Enter Department: \")\n",
    "verify_employee(name,department)\n",
    "        \n",
    "        \n"
   ]
  },
  {
   "cell_type": "code",
   "execution_count": null,
   "id": "15829d8d",
   "metadata": {},
   "outputs": [
    {
     "name": "stdout",
     "output_type": "stream",
     "text": [
      "Enter the delivery location: epe\n"
     ]
    }
   ],
   "source": [
    "def calculate_delivery_charge(location, weight):\n",
    "    if location.lower() == \"ibeju-lekki\":\n",
    "        if weight >= 10:\n",
    "            return 2000\n",
    "        else:\n",
    "            return 1500\n",
    "    elif location.lower() == \"epe\":\n",
    "        if weight >= 10:\n",
    "            return 5000\n",
    "        else:\n",
    "            return 4000\n",
    "    else:\n",
    "        return \"Location not supported.\"\n",
    "\n",
    "# Example usage\n",
    "location = input(\"Enter the delivery location: \")\n",
    "weight = float(input(\"Enter the package weight in kg: \"))\n",
    "\n",
    "charge = calculate_delivery_charge(location, weight)\n",
    "if isinstance(charge, int):\n",
    "    print(\"The delivery charge is: N{}\".format(charge))\n",
    "else:\n",
    "    print(charge)"
   ]
  },
  {
   "cell_type": "code",
   "execution_count": null,
   "id": "feeb4f76",
   "metadata": {},
   "outputs": [],
   "source": []
  }
 ],
 "metadata": {
  "kernelspec": {
   "display_name": "Python 3 (ipykernel)",
   "language": "python",
   "name": "python3"
  },
  "language_info": {
   "codemirror_mode": {
    "name": "ipython",
    "version": 3
   },
   "file_extension": ".py",
   "mimetype": "text/x-python",
   "name": "python",
   "nbconvert_exporter": "python",
   "pygments_lexer": "ipython3",
   "version": "3.10.9"
  }
 },
 "nbformat": 4,
 "nbformat_minor": 5
}
