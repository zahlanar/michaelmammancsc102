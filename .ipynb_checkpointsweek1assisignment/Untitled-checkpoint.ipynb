{
 "cells": [
  {
   "cell_type": "code",
   "execution_count": 1,
   "id": "f5ab8a1c",
   "metadata": {},
   "outputs": [
    {
     "name": "stdout",
     "output_type": "stream",
     "text": [
      "The simple interest for principal 1000, rate 5 and time 2 is 2100.0\n"
     ]
    }
   ],
   "source": [
    "# Python program to find simple interest\n",
    "def simple_interest(p, r, t):\n",
    "    return (p*(1+(r/100))*t) \n",
    "\n",
    "# Example usage\n",
    "principal = 1000\n",
    "rate = 5\n",
    "time = 2\n",
    "\n",
    "interest = simple_interest(principal, rate, time)\n",
    "print(f\"The simple interest for principal {principal}, rate {rate} and time {time} is {interest}\")"
   ]
  },
  {
   "cell_type": "code",
   "execution_count": 2,
   "id": "048502cc",
   "metadata": {},
   "outputs": [
    {
     "name": "stdout",
     "output_type": "stream",
     "text": [
      "The compound interest for princical 1000, rate 5, time 2 and number_of_times 15 is 94750.0\n"
     ]
    }
   ],
   "source": [
    "# Python program to calculate compound interest\n",
    "def compound_interest(p, r, n, t):\n",
    "    return (p*(1+(r/n)**n*t))\n",
    "\n",
    "# Example usage\n",
    "principal = 1000\n",
    "rate = 5\n",
    "time = 2\n",
    "number_of_times = 15\n",
    "\n",
    "interest = compound_interest(principal, rate, time, number_of_times)\n",
    "print(f\"The compound interest for princical {principal}, rate {rate}, time {time} and number_of_times {number_of_times} is {interest}\")"
   ]
  },
  {
   "cell_type": "code",
   "execution_count": 3,
   "id": "3718a9e8",
   "metadata": {},
   "outputs": [
    {
     "name": "stdout",
     "output_type": "stream",
     "text": [
      "The annuity plan for pmt 1000, rate 5, time 2 and number_of_times 15 is 37899.6\n"
     ]
    }
   ],
   "source": [
    "# Python program to calculate Annuity plan\n",
    "def annuity_plan(pmt, r, n, t):\n",
    "    return (pmt*(1+(r/n)**n*t)-1)/(r/n)\n",
    "\n",
    "# Example usage\n",
    "pmt = 1000\n",
    "rate = 5\n",
    "time = 2\n",
    "number_of_times = 15\n",
    "\n",
    "interest = annuity_plan(principal, rate, time, number_of_times)\n",
    "print(f\"The annuity plan for pmt {pmt}, rate {rate}, time {time} and number_of_times {number_of_times} is {interest}\")"
   ]
  },
  {
   "cell_type": "code",
   "execution_count": null,
   "id": "b7735e6a",
   "metadata": {},
   "outputs": [],
   "source": []
  }
 ],
 "metadata": {
  "kernelspec": {
   "display_name": "Python 3 (ipykernel)",
   "language": "python",
   "name": "python3"
  },
  "language_info": {
   "codemirror_mode": {
    "name": "ipython",
    "version": 3
   },
   "file_extension": ".py",
   "mimetype": "text/x-python",
   "name": "python",
   "nbconvert_exporter": "python",
   "pygments_lexer": "ipython3",
   "version": "3.10.9"
  }
 },
 "nbformat": 4,
 "nbformat_minor": 5
}
