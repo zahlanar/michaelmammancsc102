{
 "cells": [
  {
   "cell_type": "code",
   "execution_count": 1,
   "id": "3cc2e551",
   "metadata": {},
   "outputs": [
    {
     "name": "stdout",
     "output_type": "stream",
     "text": [
      "10\n",
      "20\n",
      "30\n",
      "40\n",
      "50\n"
     ]
    }
   ],
   "source": [
    "#Print the given sequence of numbers using for loop\n",
    "count = [10,20,30,40,50]\n",
    "for num in count:\n",
    "    print(num)"
   ]
  },
  {
   "cell_type": "code",
   "execution_count": 2,
   "id": "03c2ffdd",
   "metadata": {},
   "outputs": [
    {
     "name": "stdout",
     "output_type": "stream",
     "text": [
      "10\n",
      "20\n",
      "30\n",
      "40\n"
     ]
    }
   ],
   "source": [
    "#Print multiples of 10 for numbers in a given range \n",
    "for num in range(5):\n",
    "    if num > 0:\n",
    "        print(num * 10)"
   ]
  },
  {
   "cell_type": "code",
   "execution_count": 3,
   "id": "eaa4e08d",
   "metadata": {},
   "outputs": [
    {
     "name": "stdout",
     "output_type": "stream",
     "text": [
      "1\n",
      "2\n",
      "3\n",
      "4\n",
      "5\n"
     ]
    }
   ],
   "source": [
    "#Print first 5 natural numbers using while loop\n",
    "count = 1\n",
    "while count <= 5:\n",
    "    print(count)\n",
    "    count += 1"
   ]
  },
  {
   "cell_type": "code",
   "execution_count": null,
   "id": "c22086f2",
   "metadata": {},
   "outputs": [
    {
     "name": "stdout",
     "output_type": "stream",
     "text": [
      "Enter numbers to find their sum, negative numbers ends the loop\n"
     ]
    }
   ],
   "source": [
    "entry = 0\n",
    "sum = 0\n",
    "print(\"Enter numbers to find their sum, negative numbers ends the loop\")\n",
    "while True:\n",
    "    #int() typecasts string to integer\n",
    "    entry = int(input())\n",
    "    if (entry < 0):\n",
    "        break\n",
    "    sum1 += entry\n",
    "print(\"Sum =\", sum1)    "
   ]
  },
  {
   "cell_type": "code",
   "execution_count": null,
   "id": "179451ac",
   "metadata": {},
   "outputs": [],
   "source": [
    "num = 0\n",
    "for num in range(6):\n",
    "    num = num + 1\n",
    "    if num == 3:\n",
    "        continue\n",
    "    print('Num has value ' + str(num))\n",
    "print('End of loop')    "
   ]
  },
  {
   "cell_type": "code",
   "execution_count": null,
   "id": "93ec855b",
   "metadata": {},
   "outputs": [],
   "source": [
    "for var1 in range(3):\n",
    "    print(\"Iteration\" + str(var1 + 1) + \"of outer loop\")\n",
    "    for var2 in range(2): #nested loop\n",
    "        print(var2 + 1)\n",
    "    print(\"Out of inner loop\")\n",
    "print(\"Out of outer loop\")    "
   ]
  }
 ],
 "metadata": {
  "kernelspec": {
   "display_name": "Python 3 (ipykernel)",
   "language": "python",
   "name": "python3"
  },
  "language_info": {
   "codemirror_mode": {
    "name": "ipython",
    "version": 3
   },
   "file_extension": ".py",
   "mimetype": "text/x-python",
   "name": "python",
   "nbconvert_exporter": "python",
   "pygments_lexer": "ipython3",
   "version": "3.10.9"
  }
 },
 "nbformat": 4,
 "nbformat_minor": 5
}
